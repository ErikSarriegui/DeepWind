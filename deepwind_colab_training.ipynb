{
  "nbformat": 4,
  "nbformat_minor": 0,
  "metadata": {
    "colab": {
      "provenance": [],
      "gpuType": "T4"
    },
    "kernelspec": {
      "name": "python3",
      "display_name": "Python 3"
    },
    "language_info": {
      "name": "python"
    },
    "accelerator": "GPU"
  },
  "cells": [
    {
      "cell_type": "markdown",
      "source": [
        "# **DeepWind Training**\n",
        "\n",
        "El entrenamiento se realiza a partir de los Hiperparámetros que podemos modificar a continuación."
      ],
      "metadata": {
        "id": "pj7P6OYOfiW0"
      }
    },
    {
      "cell_type": "code",
      "source": [
        "# @title Hiperparámetros\n",
        "\n",
        "DATASET_PATH = '/' # @param {type:\"string\"}\n",
        "DATASET_IN_GOOGLE_DRIVE = False # @param {type:\"boolean\"}\n",
        "YOLO_MODEL = \"yolo11s.pt\" # @param {type: \"string\"}\n",
        "EPOCHS = 50 # @param {type:\"integer\"}\n",
        "BATCH_SIZE = 32 # @param {type:\"integer\"}\n",
        "OPTIMIZER = \"AdamW\" # @param [\"AdamW\", \"Adam\", \"SDG\", \"NAdam\"] {allow-input: true}\n",
        "DEVICE = 0 # @param {type:\"integer\"}"
      ],
      "metadata": {
        "cellView": "form",
        "id": "I-2BQJh068f9"
      },
      "execution_count": null,
      "outputs": []
    },
    {
      "cell_type": "code",
      "source": [
        "!git clone https://github.com/ErikSarriegui/DeepWind/\n",
        "!pip install -q -r DeepWind/requirements.txt\n",
        "\n",
        "from DeepWind.train import train_model\n",
        "import zipfile\n",
        "\n",
        "if DATASET_IN_GOOGLE_DRIVE:\n",
        "    from google.colab import drive\n",
        "    drive.mount('/content/drive')"
      ],
      "metadata": {
        "id": "DuqaASeJTo35"
      },
      "execution_count": null,
      "outputs": []
    },
    {
      "cell_type": "code",
      "source": [
        "ruta_destino = \"/content/datasets\"\n",
        "\n",
        "with zipfile.ZipFile(DATASET_PATH, 'r') as zip_ref:\n",
        "    zip_ref.extractall(ruta_destino)\n",
        "\n",
        "results = train_model(\n",
        "    data_yaml: str = \"/content/datasets/yolo_dataset/data.yaml\",\n",
        "    yolo_model: str = YOLO_MODEL,\n",
        "    epochs: int = EPOCHS,\n",
        "    device: int = DEVICE,\n",
        "    optimizer: str = OPTIMIZER,\n",
        "    batch_size: int = BATCH_SIZE\n",
        ")"
      ],
      "metadata": {
        "id": "Nxi5U_VvkFht"
      },
      "execution_count": null,
      "outputs": []
    }
  ]
}