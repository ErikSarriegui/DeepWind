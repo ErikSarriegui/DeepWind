{
  "cells": [
    {
      "cell_type": "markdown",
      "metadata": {
        "id": "pj7P6OYOfiW0"
      },
      "source": [
        "# **DeepWind Training**\n",
        "\n",
        "El entrenamiento se realiza a partir de los Hiperparámetros que podemos modificar a continuación."
      ]
    },
    {
      "cell_type": "code",
      "execution_count": null,
      "metadata": {
        "cellView": "form",
        "id": "I-2BQJh068f9"
      },
      "outputs": [],
      "source": [
        "# @title Hiperparámetros\n",
        "\n",
        "DATASET_PATH = '/' # @param {type:\"string\"}\n",
        "DATASET_IN_GOOGLE_DRIVE = False # @param {type:\"boolean\"}\n",
        "YOLO_MODEL = \"yolo11s.pt\" # @param {type: \"string\"}\n",
        "EPOCHS = 50 # @param {type:\"integer\"}\n",
        "BATCH_SIZE = 32 # @param {type:\"integer\"}\n",
        "OPTIMIZER = \"AdamW\" # @param [\"AdamW\", \"Adam\", \"SDG\", \"NAdam\"] {allow-input: true}\n",
        "DEVICE = 0 # @param {type:\"integer\"}"
      ]
    },
    {
      "cell_type": "code",
      "execution_count": null,
      "metadata": {
        "id": "DuqaASeJTo35"
      },
      "outputs": [],
      "source": [
        "!git clone https://github.com/ErikSarriegui/DeepWind/\n",
        "!pip install -q -r DeepWind/requirements.txt\n",
        "\n",
        "from DeepWind.train import train_model\n",
        "import zipfile\n",
        "\n",
        "if DATASET_IN_GOOGLE_DRIVE:\n",
        "    from google.colab import drive\n",
        "    drive.mount('/content/drive')"
      ]
    },
    {
      "cell_type": "code",
      "execution_count": null,
      "metadata": {
        "id": "Nxi5U_VvkFht"
      },
      "outputs": [],
      "source": [
        "ruta_destino = \"/content/datasets\"\n",
        "\n",
        "with zipfile.ZipFile(DATASET_PATH, 'r') as zip_ref:\n",
        "    zip_ref.extractall(ruta_destino)\n",
        "\n",
        "results = train_model(\n",
        "    data_yaml = \"/content/datasets/yolo_dataset/data.yaml\",\n",
        "    yolo_model = YOLO_MODEL,\n",
        "    epochs = EPOCHS,\n",
        "    device = DEVICE,\n",
        "    OPTIMIZER = OPTIMIZER,\n",
        "    batch_size = BATCH_SIZE\n",
        ")"
      ]
    }
  ],
  "metadata": {
    "accelerator": "GPU",
    "colab": {
      "gpuType": "T4",
      "provenance": []
    },
    "kernelspec": {
      "display_name": "Python 3",
      "name": "python3"
    },
    "language_info": {
      "name": "python"
    }
  },
  "nbformat": 4,
  "nbformat_minor": 0
}
