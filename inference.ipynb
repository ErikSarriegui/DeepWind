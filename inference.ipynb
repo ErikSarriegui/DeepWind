{
 "cells": [
  {
   "cell_type": "code",
   "execution_count": 1,
   "metadata": {},
   "outputs": [
    {
     "name": "stderr",
     "output_type": "stream",
     "text": [
      "c:\\Users\\Erik\\AppData\\Local\\Programs\\Python\\Python312\\Lib\\site-packages\\tqdm\\auto.py:21: TqdmWarning: IProgress not found. Please update jupyter and ipywidgets. See https://ipywidgets.readthedocs.io/en/stable/user_install.html\n",
      "  from .autonotebook import tqdm as notebook_tqdm\n"
     ]
    },
    {
     "name": "stdout",
     "output_type": "stream",
     "text": [
      "* Running on local URL:  http://127.0.0.1:7860\n",
      "\n",
      "To create a public link, set `share=True` in `launch()`.\n"
     ]
    },
    {
     "data": {
      "text/html": [
       "<div><iframe src=\"http://127.0.0.1:7860/\" width=\"100%\" height=\"500\" allow=\"autoplay; camera; microphone; clipboard-read; clipboard-write;\" frameborder=\"0\" allowfullscreen></iframe></div>"
      ],
      "text/plain": [
       "<IPython.core.display.HTML object>"
      ]
     },
     "metadata": {},
     "output_type": "display_data"
    },
    {
     "data": {
      "text/plain": []
     },
     "execution_count": 1,
     "metadata": {},
     "output_type": "execute_result"
    },
    {
     "name": "stdout",
     "output_type": "stream",
     "text": [
      "\n",
      "image 1/1 C:\\Users\\Erik\\AppData\\Local\\Temp\\gradio\\f9bbedee216e1236c1eba9f096150f7ad8c583b7a9f79b5e9b1a9f38742b72ad\\DJI_0004_03_06.png: 416x608 8 Damages, 40.0ms\n",
      "Speed: 2.0ms preprocess, 40.0ms inference, 139.0ms postprocess per image at shape (1, 3, 416, 608)\n",
      "\n",
      "image 1/1 C:\\Users\\Erik\\AppData\\Local\\Temp\\gradio\\f9bbedee216e1236c1eba9f096150f7ad8c583b7a9f79b5e9b1a9f38742b72ad\\DJI_0004_03_06.png: 416x608 8 Damages, 128.7ms\n",
      "Speed: 2.0ms preprocess, 128.7ms inference, 9.0ms postprocess per image at shape (1, 3, 416, 608)\n",
      "\n",
      "image 1/1 C:\\Users\\Erik\\AppData\\Local\\Temp\\gradio\\9796164d7d88d66809116d173389efe05d076308b2cbde5782365e0f1242e353\\DJI_0006_03_05.png: 416x608 14 Damages, 172.0ms\n",
      "Speed: 8.0ms preprocess, 172.0ms inference, 2.0ms postprocess per image at shape (1, 3, 416, 608)\n",
      "\n",
      "image 1/1 C:\\Users\\Erik\\AppData\\Local\\Temp\\gradio\\7513b2dd0eeaba12ed05cdf5677cc2b2e85be9c0b716b6ca28caf6b3139cfc0b\\DJI_0005_02_04.png: 416x608 2 Damages, 89.6ms\n",
      "Speed: 3.0ms preprocess, 89.6ms inference, 12.5ms postprocess per image at shape (1, 3, 416, 608)\n",
      "\n",
      "image 1/1 C:\\Users\\Erik\\AppData\\Local\\Temp\\gradio\\b817be9d060e8fd7f32c4608150a113fa5bda38ae8f234ee64639db1292ac42a\\DJI_0089_01_02.png: 416x608 1 Damage, 67.0ms\n",
      "Speed: 3.0ms preprocess, 67.0ms inference, 5.0ms postprocess per image at shape (1, 3, 416, 608)\n",
      "\n",
      "image 1/1 C:\\Users\\Erik\\AppData\\Local\\Temp\\gradio\\2d327bd0bcc7bb7f0f4cf80801fbfd7288e30faaf29e768a2469ffc7c9d1e044\\DJI_0280_02_03.png: 416x608 2 Damages, 56.3ms\n",
      "Speed: 2.0ms preprocess, 56.3ms inference, 4.0ms postprocess per image at shape (1, 3, 416, 608)\n",
      "\n",
      "image 1/1 C:\\Users\\Erik\\AppData\\Local\\Temp\\gradio\\22f216b64a468aecf03882143a67e1e16f55c310fc8a05f2a31a74b2372ef664\\DJI_0360_08_09.png: 416x608 2 Damages, 133.0ms\n",
      "Speed: 7.0ms preprocess, 133.0ms inference, 2.0ms postprocess per image at shape (1, 3, 416, 608)\n",
      "\n",
      "image 1/1 C:\\Users\\Erik\\AppData\\Local\\Temp\\gradio\\622124dbd3df748b44ae9b41c678a73d3819e7af5ef6d48df20748275f4acd84\\DJI_0989_04_05.png: 416x608 1 Damage, 43.0ms\n",
      "Speed: 3.0ms preprocess, 43.0ms inference, 4.0ms postprocess per image at shape (1, 3, 416, 608)\n",
      "\n",
      "image 1/1 C:\\Users\\Erik\\AppData\\Local\\Temp\\gradio\\f6a3e14d46ac6f7be87a9f2ed8a30aa2c32e4eb9e081d371de41cfea0f7a0810\\DJI_0004_04_05.png: 416x608 1 Damage, 78.5ms\n",
      "Speed: 2.0ms preprocess, 78.5ms inference, 3.0ms postprocess per image at shape (1, 3, 416, 608)\n",
      "\n",
      "image 1/1 C:\\Users\\Erik\\AppData\\Local\\Temp\\gradio\\67b999c13b92bc5679e8f9df31bcf1d31aa5d9809bcab7ef2d726a230b553423\\DJI_0029_03_04.png: 416x608 16 Damages, 79.5ms\n",
      "Speed: 2.0ms preprocess, 79.5ms inference, 4.6ms postprocess per image at shape (1, 3, 416, 608)\n"
     ]
    }
   ],
   "source": [
    "import gradio as gr\n",
    "from ultralytics import YOLO\n",
    "from PIL import Image\n",
    "import cv2\n",
    "\n",
    "# Cargar el modelo YOLO\n",
    "model = YOLO(\"model/deepwind_model.pt\")\n",
    "\n",
    "# Función para realizar la inferencia y dibujar las bounding boxes\n",
    "def inferencia_yolo(imagen):\n",
    "    # Realizar la inferencia\n",
    "    resultados = model(imagen)\n",
    "    \n",
    "    # Obtener la imagen con las bounding boxes dibujadas\n",
    "    imagen_con_boxes = resultados[0].plot()  # Esto devuelve una imagen en formato numpy array\n",
    "    \n",
    "    # Convertir la imagen de BGR (OpenCV) a RGB (PIL)\n",
    "    imagen_con_boxes = cv2.cvtColor(imagen_con_boxes, cv2.COLOR_BGR2RGB)\n",
    "    \n",
    "    # Convertir a formato PIL para mostrarla en Gradio\n",
    "    imagen_con_boxes = Image.fromarray(imagen_con_boxes)\n",
    "    \n",
    "    return imagen_con_boxes\n",
    "\n",
    "# Crear la interfaz de Gradio\n",
    "interfaz = gr.Interface(\n",
    "    fn=inferencia_yolo,  # Función que realiza la inferencia\n",
    "    inputs=gr.Image(type=\"filepath\", label=\"Subir imagen\"),  # Entrada: subir una imagen\n",
    "    outputs=gr.Image(type=\"pil\", label=\"Resultado con bounding boxes\"),  # Salida: imagen con bounding boxes\n",
    "    examples=[\n",
    "        \"examples/DJI_0004_03_06.png\",\n",
    "        \"examples/DJI_0005_03_05.png\",\n",
    "        \"examples/DJI_0006_03_05.png\"\n",
    "    ],\n",
    "    title=\"Inferencia YOLO con Gradio\",\n",
    "    description=\"Sube una imagen y observa las bounding boxes detectadas por el modelo YOLO.\"\n",
    ")\n",
    "\n",
    "# Lanzar la interfaz\n",
    "interfaz.launch()"
   ]
  }
 ],
 "metadata": {
  "kernelspec": {
   "display_name": "Python 3",
   "language": "python",
   "name": "python3"
  },
  "language_info": {
   "codemirror_mode": {
    "name": "ipython",
    "version": 3
   },
   "file_extension": ".py",
   "mimetype": "text/x-python",
   "name": "python",
   "nbconvert_exporter": "python",
   "pygments_lexer": "ipython3",
   "version": "3.12.6"
  }
 },
 "nbformat": 4,
 "nbformat_minor": 2
}
