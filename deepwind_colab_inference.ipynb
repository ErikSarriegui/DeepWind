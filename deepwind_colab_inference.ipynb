{
  "cells": [
    {
      "cell_type": "markdown",
      "metadata": {
        "id": "VmwxM8Bn5mhE"
      },
      "source": [
        "# **DeepWind Model Demo Inference with Gradio in Colab**\n",
        "\n",
        "This script clones the project and execute it with a Gradio interface."
      ]
    },
    {
      "cell_type": "code",
      "execution_count": null,
      "metadata": {
        "id": "PXRy_Z1t2vAJ"
      },
      "outputs": [],
      "source": [
        "!git clone https://github.com/ErikSarriegui/DeepWind\n",
        "!pip intall -q -r DeepWind/requirements.txt\n",
        "\n",
        "import gradio as gr\n",
        "from ultralytics import YOLO\n",
        "from PIL import Image\n",
        "import cv2\n",
        "\n",
        "model = YOLO(\"DeepWind/model/deepwind_model.pt\")\n",
        "\n",
        "def inferencia_yolo(imagen):\n",
        "    resultados = model(imagen)\n",
        "    imagen_con_boxes = resultados[0].plot()\n",
        "    imagen_con_boxes = cv2.cvtColor(imagen_con_boxes, cv2.COLOR_BGR2RGB)\n",
        "    imagen_con_boxes = Image.fromarray(imagen_con_boxes)\n",
        "    return imagen_con_boxes\n",
        "\n",
        "interfaz = gr.Interface(\n",
        "    fn = inferencia_yolo,\n",
        "    inputs=gr.Image(type=\"filepath\", label=\"Subir imagen\"),\n",
        "    outputs=gr.Image(type=\"pil\", label=\"Resultado con bounding boxes\"),\n",
        "    examples=[\n",
        "        \"DeepWind/examples/1.png\",\n",
        "        \"DeepWind/examples/2.png\",\n",
        "        \"DeepWind/examples/3.png\"\n",
        "    ],\n",
        "    title=\"Inferencia DeepWind con Gradio\",\n",
        "    description=\"Sube una imagen y observa las bounding boxes detectadas por DeepWind.\"\n",
        ")\n",
        "\n",
        "if __name__ == \"__main__\":\n",
        "    interfaz.launch()"
      ]
    }
  ],
  "metadata": {
    "colab": {
      "provenance": []
    },
    "kernelspec": {
      "display_name": "Python 3",
      "name": "python3"
    },
    "language_info": {
      "name": "python"
    }
  },
  "nbformat": 4,
  "nbformat_minor": 0
}
